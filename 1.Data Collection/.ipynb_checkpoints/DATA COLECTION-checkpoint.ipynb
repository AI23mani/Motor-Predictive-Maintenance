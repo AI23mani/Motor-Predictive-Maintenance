{
 "cells": [
  {
   "cell_type": "markdown",
   "metadata": {},
   "source": [
    "<div style=\"color:red;background-color:lime;padding:3%;border-radius:150px 150px;font-size:2em;text-align:center\">Data analysis with-LR-DT-RF-and-SVM-99.6% AUC</div>"
   ]
  },
  {
   "cell_type": "markdown",
   "metadata": {},
   "source": [
    "![](https://j.gifs.com/76kDrQ.gif)"
   ]
  },
  {
   "cell_type": "markdown",
   "metadata": {},
   "source": [
    "# About Dataset\n",
    "\n",
    "Machine Predictive Maintenance Classification Dataset Since real predictive maintenance datasets are generally difficult to obtain and in particular difficult to publish, we present and provide a synthetic dataset that reflects real predictive maintenance encountered in the industry to the best of our knowledge.\n",
    "\n",
    "\n",
    "The dataset consists of 10 000 data points stored as rows with 14 features in columns\n",
    "\n",
    "\n",
    "UID: unique identifier ranging from 1 to 10000 productID: consisting of a letter L, M, or H for low (50% of all products),\n",
    "\n",
    "medium (30%), and high (20%) as product quality variants and a variant-specific serial number air temperature [K]: generated using a random walk process later normalized to a standard deviation of 2 K around 300 K process temperature [K]: generated using a random walk process normalized to a standard deviation of 1 K, added to the air temperature plus 10 K. rotational speed [rpm]: calculated from powepower of 2860 W, overlaid with a normally distributed noise torque [Nm]: torque values are normally distributed around 40 Nm with an Ïƒ = 10 Nm and no negative values. tool wear [min]: The quality variants H/M/L add 5/3/2 minutes of tool wear to the used tool in the process. and a 'machine failure' label that indicates, whether the machine has failed in this particular data point for any of the following failure modes are true. \n",
    "\n",
    "Important : \n",
    "\n",
    "There are two Targets - Do not make the mistake of using one of them as feature, as it will lead to leakage. Target : Failure or Not Failure Type : Type of Failure"
   ]
  },
  {
   "cell_type": "code",
   "execution_count": 10,
   "metadata": {},
   "outputs": [],
   "source": [
    "import numpy as np \n",
    "import pandas as pd\n",
    "import seaborn as sns\n",
    "import matplotlib.pyplot as plt\n",
    "\n",
    "import warnings\n",
    "warnings.filterwarnings(\"ignore\")"
   ]
  },
  {
   "cell_type": "code",
   "execution_count": 11,
   "metadata": {},
   "outputs": [],
   "source": [
    "#Default theme\n",
    "sns.set_theme(palette='tab10',\n",
    "              font='Lucida Calligraphy',\n",
    "              font_scale=1.5,\n",
    "              rc=None)\n",
    "\n",
    "import matplotlib\n",
    "matplotlib.rcParams.update({'font.size': 15})\n",
    "plt.style.use('dark_background')"
   ]
  },
  {
   "cell_type": "code",
   "execution_count": 12,
   "metadata": {},
   "outputs": [],
   "source": [
    "pd.set_option(\"display.max_columns\",None)\n",
    "pd.set_option(\"display.max_rows\",None)"
   ]
  },
  {
   "cell_type": "code",
   "execution_count": 13,
   "metadata": {},
   "outputs": [
    {
     "data": {
      "text/html": [
       "<style type=\"text/css\">\n",
       "#T_7be0d_row0_col0, #T_7be0d_row0_col1, #T_7be0d_row0_col2, #T_7be0d_row0_col3, #T_7be0d_row0_col4, #T_7be0d_row0_col5, #T_7be0d_row0_col6, #T_7be0d_row0_col7, #T_7be0d_row1_col0, #T_7be0d_row1_col1, #T_7be0d_row1_col2, #T_7be0d_row1_col3, #T_7be0d_row1_col4, #T_7be0d_row1_col5, #T_7be0d_row1_col6, #T_7be0d_row1_col7, #T_7be0d_row2_col0, #T_7be0d_row2_col1, #T_7be0d_row2_col2, #T_7be0d_row2_col3, #T_7be0d_row2_col4, #T_7be0d_row2_col5, #T_7be0d_row2_col6, #T_7be0d_row2_col7, #T_7be0d_row3_col0, #T_7be0d_row3_col1, #T_7be0d_row3_col2, #T_7be0d_row3_col3, #T_7be0d_row3_col4, #T_7be0d_row3_col5, #T_7be0d_row3_col6, #T_7be0d_row3_col7, #T_7be0d_row4_col0, #T_7be0d_row4_col1, #T_7be0d_row4_col2, #T_7be0d_row4_col3, #T_7be0d_row4_col4, #T_7be0d_row4_col5, #T_7be0d_row4_col6, #T_7be0d_row4_col7, #T_7be0d_row5_col0, #T_7be0d_row5_col1, #T_7be0d_row5_col2, #T_7be0d_row5_col3, #T_7be0d_row5_col4, #T_7be0d_row5_col5, #T_7be0d_row5_col6, #T_7be0d_row5_col7 {\n",
       "  background-color: Brown;\n",
       "  color: white;\n",
       "  border-color: White;\n",
       "}\n",
       "</style>\n",
       "<table id=\"T_7be0d_\">\n",
       "  <thead>\n",
       "    <tr>\n",
       "      <th class=\"blank level0\" >&nbsp;</th>\n",
       "      <th class=\"col_heading level0 col0\" >Type</th>\n",
       "      <th class=\"col_heading level0 col1\" >Air temperature [K]</th>\n",
       "      <th class=\"col_heading level0 col2\" >Process temperature [K]</th>\n",
       "      <th class=\"col_heading level0 col3\" >Rotational speed [rpm]</th>\n",
       "      <th class=\"col_heading level0 col4\" >Torque [Nm]</th>\n",
       "      <th class=\"col_heading level0 col5\" >Tool wear [min]</th>\n",
       "      <th class=\"col_heading level0 col6\" >Target</th>\n",
       "      <th class=\"col_heading level0 col7\" >Failure Type</th>\n",
       "    </tr>\n",
       "  </thead>\n",
       "  <tbody>\n",
       "    <tr>\n",
       "      <th id=\"T_7be0d_level0_row0\" class=\"row_heading level0 row0\" >43</th>\n",
       "      <td id=\"T_7be0d_row0_col0\" class=\"data row0 col0\" >H</td>\n",
       "      <td id=\"T_7be0d_row0_col1\" class=\"data row0 col1\" >298.800000</td>\n",
       "      <td id=\"T_7be0d_row0_col2\" class=\"data row0 col2\" >309.200000</td>\n",
       "      <td id=\"T_7be0d_row0_col3\" class=\"data row0 col3\" >1372</td>\n",
       "      <td id=\"T_7be0d_row0_col4\" class=\"data row0 col4\" >48.500000</td>\n",
       "      <td id=\"T_7be0d_row0_col5\" class=\"data row0 col5\" >120</td>\n",
       "      <td id=\"T_7be0d_row0_col6\" class=\"data row0 col6\" >0</td>\n",
       "      <td id=\"T_7be0d_row0_col7\" class=\"data row0 col7\" >No Failure</td>\n",
       "    </tr>\n",
       "    <tr>\n",
       "      <th id=\"T_7be0d_level0_row1\" class=\"row_heading level0 row1\" >7398</th>\n",
       "      <td id=\"T_7be0d_row1_col0\" class=\"data row1 col0\" >M</td>\n",
       "      <td id=\"T_7be0d_row1_col1\" class=\"data row1 col1\" >299.700000</td>\n",
       "      <td id=\"T_7be0d_row1_col2\" class=\"data row1 col2\" >310.700000</td>\n",
       "      <td id=\"T_7be0d_row1_col3\" class=\"data row1 col3\" >1498</td>\n",
       "      <td id=\"T_7be0d_row1_col4\" class=\"data row1 col4\" >37.800000</td>\n",
       "      <td id=\"T_7be0d_row1_col5\" class=\"data row1 col5\" >146</td>\n",
       "      <td id=\"T_7be0d_row1_col6\" class=\"data row1 col6\" >0</td>\n",
       "      <td id=\"T_7be0d_row1_col7\" class=\"data row1 col7\" >No Failure</td>\n",
       "    </tr>\n",
       "    <tr>\n",
       "      <th id=\"T_7be0d_level0_row2\" class=\"row_heading level0 row2\" >1981</th>\n",
       "      <td id=\"T_7be0d_row2_col0\" class=\"data row2 col0\" >L</td>\n",
       "      <td id=\"T_7be0d_row2_col1\" class=\"data row2 col1\" >298.000000</td>\n",
       "      <td id=\"T_7be0d_row2_col2\" class=\"data row2 col2\" >307.600000</td>\n",
       "      <td id=\"T_7be0d_row2_col3\" class=\"data row2 col3\" >1385</td>\n",
       "      <td id=\"T_7be0d_row2_col4\" class=\"data row2 col4\" >45.000000</td>\n",
       "      <td id=\"T_7be0d_row2_col5\" class=\"data row2 col5\" >158</td>\n",
       "      <td id=\"T_7be0d_row2_col6\" class=\"data row2 col6\" >0</td>\n",
       "      <td id=\"T_7be0d_row2_col7\" class=\"data row2 col7\" >No Failure</td>\n",
       "    </tr>\n",
       "    <tr>\n",
       "      <th id=\"T_7be0d_level0_row3\" class=\"row_heading level0 row3\" >1915</th>\n",
       "      <td id=\"T_7be0d_row3_col0\" class=\"data row3 col0\" >L</td>\n",
       "      <td id=\"T_7be0d_row3_col1\" class=\"data row3 col1\" >298.000000</td>\n",
       "      <td id=\"T_7be0d_row3_col2\" class=\"data row3 col2\" >307.700000</td>\n",
       "      <td id=\"T_7be0d_row3_col3\" class=\"data row3 col3\" >1492</td>\n",
       "      <td id=\"T_7be0d_row3_col4\" class=\"data row3 col4\" >38.700000</td>\n",
       "      <td id=\"T_7be0d_row3_col5\" class=\"data row3 col5\" >202</td>\n",
       "      <td id=\"T_7be0d_row3_col6\" class=\"data row3 col6\" >0</td>\n",
       "      <td id=\"T_7be0d_row3_col7\" class=\"data row3 col7\" >No Failure</td>\n",
       "    </tr>\n",
       "    <tr>\n",
       "      <th id=\"T_7be0d_level0_row4\" class=\"row_heading level0 row4\" >5501</th>\n",
       "      <td id=\"T_7be0d_row4_col0\" class=\"data row4 col0\" >L</td>\n",
       "      <td id=\"T_7be0d_row4_col1\" class=\"data row4 col1\" >302.700000</td>\n",
       "      <td id=\"T_7be0d_row4_col2\" class=\"data row4 col2\" >312.100000</td>\n",
       "      <td id=\"T_7be0d_row4_col3\" class=\"data row4 col3\" >1543</td>\n",
       "      <td id=\"T_7be0d_row4_col4\" class=\"data row4 col4\" >37.500000</td>\n",
       "      <td id=\"T_7be0d_row4_col5\" class=\"data row4 col5\" >33</td>\n",
       "      <td id=\"T_7be0d_row4_col6\" class=\"data row4 col6\" >0</td>\n",
       "      <td id=\"T_7be0d_row4_col7\" class=\"data row4 col7\" >No Failure</td>\n",
       "    </tr>\n",
       "    <tr>\n",
       "      <th id=\"T_7be0d_level0_row5\" class=\"row_heading level0 row5\" >8800</th>\n",
       "      <td id=\"T_7be0d_row5_col0\" class=\"data row5 col0\" >L</td>\n",
       "      <td id=\"T_7be0d_row5_col1\" class=\"data row5 col1\" >297.400000</td>\n",
       "      <td id=\"T_7be0d_row5_col2\" class=\"data row5 col2\" >308.500000</td>\n",
       "      <td id=\"T_7be0d_row5_col3\" class=\"data row5 col3\" >1475</td>\n",
       "      <td id=\"T_7be0d_row5_col4\" class=\"data row5 col4\" >47.200000</td>\n",
       "      <td id=\"T_7be0d_row5_col5\" class=\"data row5 col5\" >69</td>\n",
       "      <td id=\"T_7be0d_row5_col6\" class=\"data row5 col6\" >0</td>\n",
       "      <td id=\"T_7be0d_row5_col7\" class=\"data row5 col7\" >No Failure</td>\n",
       "    </tr>\n",
       "  </tbody>\n",
       "</table>\n"
      ],
      "text/plain": [
       "<pandas.io.formats.style.Styler at 0x248333d5b08>"
      ]
     },
     "execution_count": 13,
     "metadata": {},
     "output_type": "execute_result"
    }
   ],
   "source": [
    "df=pd.read_csv(\"predictive_maintenance.csv\")\n",
    "df = df.drop([\"UDI\",\"Product ID\"],axis=1)\n",
    "df.sample(6).style.set_properties(\n",
    "    **{\n",
    "        'background-color': 'Brown',\n",
    "        'color': 'white',\n",
    "        'border-color': 'White'\n",
    "    })"
   ]
  },
  {
   "cell_type": "code",
   "execution_count": 14,
   "metadata": {},
   "outputs": [],
   "source": [
    "## Converting temperature in centigrate from Kelvin [1 K = -272.15 °C  ] \n",
    "\n",
    "df[\"Air temperature [K]\"] = df[\"Air temperature [K]\"] - 272.15\n",
    "df[\"Process temperature [K]\"] = df[\"Process temperature [K]\"] - 272.15\n",
    "\n",
    "# Renaming temperature in Centigrate(°C) from Kelvin (K)\n",
    "df.rename(columns={\"Air temperature [K]\" : \"Air temperature [°C]\",\"Process temperature [K]\" : \"Process temperature [°C]\"},inplace=True)"
   ]
  },
  {
   "cell_type": "code",
   "execution_count": 15,
   "metadata": {},
   "outputs": [
    {
     "data": {
      "text/html": [
       "<div>\n",
       "<style scoped>\n",
       "    .dataframe tbody tr th:only-of-type {\n",
       "        vertical-align: middle;\n",
       "    }\n",
       "\n",
       "    .dataframe tbody tr th {\n",
       "        vertical-align: top;\n",
       "    }\n",
       "\n",
       "    .dataframe thead th {\n",
       "        text-align: right;\n",
       "    }\n",
       "</style>\n",
       "<table border=\"1\" class=\"dataframe\">\n",
       "  <thead>\n",
       "    <tr style=\"text-align: right;\">\n",
       "      <th></th>\n",
       "      <th>Type</th>\n",
       "      <th>Air temperature [°C]</th>\n",
       "      <th>Process temperature [°C]</th>\n",
       "      <th>Rotational speed [rpm]</th>\n",
       "      <th>Torque [Nm]</th>\n",
       "      <th>Tool wear [min]</th>\n",
       "      <th>Target</th>\n",
       "      <th>Failure Type</th>\n",
       "      <th>Temperature difference [°C]</th>\n",
       "    </tr>\n",
       "  </thead>\n",
       "  <tbody>\n",
       "    <tr>\n",
       "      <th>2053</th>\n",
       "      <td>L</td>\n",
       "      <td>27.35</td>\n",
       "      <td>37.15</td>\n",
       "      <td>1382</td>\n",
       "      <td>61.0</td>\n",
       "      <td>140</td>\n",
       "      <td>0</td>\n",
       "      <td>No Failure</td>\n",
       "      <td>9.8</td>\n",
       "    </tr>\n",
       "    <tr>\n",
       "      <th>1457</th>\n",
       "      <td>L</td>\n",
       "      <td>26.85</td>\n",
       "      <td>38.15</td>\n",
       "      <td>1475</td>\n",
       "      <td>42.4</td>\n",
       "      <td>93</td>\n",
       "      <td>0</td>\n",
       "      <td>No Failure</td>\n",
       "      <td>11.3</td>\n",
       "    </tr>\n",
       "    <tr>\n",
       "      <th>2851</th>\n",
       "      <td>L</td>\n",
       "      <td>28.35</td>\n",
       "      <td>37.15</td>\n",
       "      <td>1373</td>\n",
       "      <td>48.8</td>\n",
       "      <td>211</td>\n",
       "      <td>0</td>\n",
       "      <td>No Failure</td>\n",
       "      <td>8.8</td>\n",
       "    </tr>\n",
       "    <tr>\n",
       "      <th>7379</th>\n",
       "      <td>M</td>\n",
       "      <td>27.45</td>\n",
       "      <td>37.95</td>\n",
       "      <td>1357</td>\n",
       "      <td>48.7</td>\n",
       "      <td>96</td>\n",
       "      <td>0</td>\n",
       "      <td>No Failure</td>\n",
       "      <td>10.5</td>\n",
       "    </tr>\n",
       "    <tr>\n",
       "      <th>4855</th>\n",
       "      <td>L</td>\n",
       "      <td>31.55</td>\n",
       "      <td>40.15</td>\n",
       "      <td>1375</td>\n",
       "      <td>46.2</td>\n",
       "      <td>98</td>\n",
       "      <td>0</td>\n",
       "      <td>No Failure</td>\n",
       "      <td>8.6</td>\n",
       "    </tr>\n",
       "    <tr>\n",
       "      <th>6879</th>\n",
       "      <td>H</td>\n",
       "      <td>28.65</td>\n",
       "      <td>39.05</td>\n",
       "      <td>2237</td>\n",
       "      <td>17.0</td>\n",
       "      <td>95</td>\n",
       "      <td>0</td>\n",
       "      <td>No Failure</td>\n",
       "      <td>10.4</td>\n",
       "    </tr>\n",
       "  </tbody>\n",
       "</table>\n",
       "</div>"
      ],
      "text/plain": [
       "     Type  Air temperature [°C]  Process temperature [°C]  \\\n",
       "2053    L                 27.35                     37.15   \n",
       "1457    L                 26.85                     38.15   \n",
       "2851    L                 28.35                     37.15   \n",
       "7379    M                 27.45                     37.95   \n",
       "4855    L                 31.55                     40.15   \n",
       "6879    H                 28.65                     39.05   \n",
       "\n",
       "      Rotational speed [rpm]  Torque [Nm]  Tool wear [min]  Target  \\\n",
       "2053                    1382         61.0              140       0   \n",
       "1457                    1475         42.4               93       0   \n",
       "2851                    1373         48.8              211       0   \n",
       "7379                    1357         48.7               96       0   \n",
       "4855                    1375         46.2               98       0   \n",
       "6879                    2237         17.0               95       0   \n",
       "\n",
       "     Failure Type  Temperature difference [°C]  \n",
       "2053   No Failure                          9.8  \n",
       "1457   No Failure                         11.3  \n",
       "2851   No Failure                          8.8  \n",
       "7379   No Failure                         10.5  \n",
       "4855   No Failure                          8.6  \n",
       "6879   No Failure                         10.4  "
      ]
     },
     "execution_count": 15,
     "metadata": {},
     "output_type": "execute_result"
    }
   ],
   "source": [
    "df[\"Temperature difference [°C]\"] = df[\"Process temperature [°C]\"] - df[\"Air temperature [°C]\"]\n",
    "df.sample(6)"
   ]
  },
  {
   "cell_type": "code",
   "execution_count": 16,
   "metadata": {},
   "outputs": [
    {
     "data": {
      "text/plain": [
       "(10000, 9)"
      ]
     },
     "metadata": {},
     "output_type": "display_data"
    },
    {
     "data": {
      "text/plain": [
       "90000"
      ]
     },
     "metadata": {},
     "output_type": "display_data"
    }
   ],
   "source": [
    "display(df.shape)\n",
    "display(df.size)"
   ]
  },
  {
   "cell_type": "code",
   "execution_count": 17,
   "metadata": {},
   "outputs": [
    {
     "name": "stdout",
     "output_type": "stream",
     "text": [
      "<class 'pandas.core.frame.DataFrame'>\n",
      "RangeIndex: 10000 entries, 0 to 9999\n",
      "Data columns (total 9 columns):\n",
      " #   Column                       Non-Null Count  Dtype  \n",
      "---  ------                       --------------  -----  \n",
      " 0   Type                         10000 non-null  object \n",
      " 1   Air temperature [°C]         10000 non-null  float64\n",
      " 2   Process temperature [°C]     10000 non-null  float64\n",
      " 3   Rotational speed [rpm]       10000 non-null  int64  \n",
      " 4   Torque [Nm]                  10000 non-null  float64\n",
      " 5   Tool wear [min]              10000 non-null  int64  \n",
      " 6   Target                       10000 non-null  int64  \n",
      " 7   Failure Type                 10000 non-null  object \n",
      " 8   Temperature difference [°C]  10000 non-null  float64\n",
      "dtypes: float64(4), int64(3), object(2)\n",
      "memory usage: 703.2+ KB\n"
     ]
    }
   ],
   "source": [
    "df.info() "
   ]
  },
  {
   "cell_type": "code",
   "execution_count": 18,
   "metadata": {},
   "outputs": [
    {
     "data": {
      "text/plain": [
       "Index(['Type', 'Air temperature [°C]', 'Process temperature [°C]',\n",
       "       'Rotational speed [rpm]', 'Torque [Nm]', 'Tool wear [min]', 'Target',\n",
       "       'Failure Type', 'Temperature difference [°C]'],\n",
       "      dtype='object')"
      ]
     },
     "execution_count": 18,
     "metadata": {},
     "output_type": "execute_result"
    }
   ],
   "source": [
    "df.columns"
   ]
  },
  {
   "cell_type": "code",
   "execution_count": null,
   "metadata": {},
   "outputs": [],
   "source": []
  }
 ],
 "metadata": {
  "kaggle": {
   "accelerator": "none",
   "dataSources": [
    {
     "datasetId": 1697740,
     "sourceId": 2781015,
     "sourceType": "datasetVersion"
    }
   ],
   "dockerImageVersionId": 30213,
   "isGpuEnabled": false,
   "isInternetEnabled": true,
   "language": "python",
   "sourceType": "notebook"
  },
  "kernelspec": {
   "display_name": "Python 3 (ipykernel)",
   "language": "python",
   "name": "python3"
  },
  "language_info": {
   "codemirror_mode": {
    "name": "ipython",
    "version": 3
   },
   "file_extension": ".py",
   "mimetype": "text/x-python",
   "name": "python",
   "nbconvert_exporter": "python",
   "pygments_lexer": "ipython3",
   "version": "3.7.6"
  }
 },
 "nbformat": 4,
 "nbformat_minor": 4
}
