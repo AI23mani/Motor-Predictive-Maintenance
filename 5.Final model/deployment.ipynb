{
 "cells": [
  {
   "cell_type": "markdown",
   "metadata": {},
   "source": [
    "<div style=\"color:red;background-color:lime;padding:3%;border-radius:150px 150px;font-size:2em;text-align:center\">Data analysis with-LR-DT-RF-and-SVM-99.6% AUC</div>"
   ]
  },
  {
   "cell_type": "markdown",
   "metadata": {},
   "source": [
    "![](https://j.gifs.com/76kDrQ.gif)"
   ]
  },
  {
   "cell_type": "code",
   "execution_count": 1,
   "metadata": {},
   "outputs": [
    {
     "name": "stdin",
     "output_type": "stream",
     "text": [
      "Type (L, M, H):  1\n",
      "Air temperature [°C]:  302.700\n",
      "Process temperature [°C]:  310.5000\n",
      "Rotational speed [rpm]:  1446\n",
      "Torque [Nm]:  40.9000\n",
      "Tool wear [min]:  211\n",
      "Target:  1\n",
      "Temperature difference [°C]:  7.8\n"
     ]
    },
    {
     "name": "stdout",
     "output_type": "stream",
     "text": [
      "Predicted category: Tool Wear Failure\n"
     ]
    }
   ],
   "source": [
    "import pandas as pd\n",
    "import pickle\n",
    "\n",
    "# Load the saved model\n",
    "filename = \"Decision_tree_BATTERY_final.sav\"\n",
    "best_decision_tree_model = pickle.load(open(filename, 'rb'))\n",
    "\n",
    "# Function to encode the type input\n",
    "def encode_type(type_input):\n",
    "    type_mapping = {'L': 1, 'M': 2, 'H': 3}\n",
    "    return type_mapping.get(type_input.upper(), 0)\n",
    "\n",
    "# Take user input for each feature\n",
    "type_input = input(\"Type (L, M, H): \")\n",
    "encoded_type_input = encode_type(type_input)\n",
    "air_temp_input = float(input(\"Air temperature [°C]: \"))\n",
    "process_temp_input = float(input(\"Process temperature [°C]: \"))\n",
    "rotational_speed_input = int(input(\"Rotational speed [rpm]: \"))\n",
    "torque_input = float(input(\"Torque [Nm]: \"))\n",
    "tool_wear_input = int(input(\"Tool wear [min]: \"))\n",
    "target_input = int(input(\"Target: \"))\n",
    "temp_diff_input = float(input(\"Temperature difference [°C]: \"))\n",
    "\n",
    "# Create a dictionary with the input data\n",
    "new_data = {\n",
    "    'Type': [encoded_type_input],\n",
    "    'Air temperature [°C]': [air_temp_input],\n",
    "    'Process temperature [°C]': [process_temp_input],\n",
    "    'Rotational speed [rpm]': [rotational_speed_input],\n",
    "    'Torque [Nm]': [torque_input],\n",
    "    'Tool wear [min]': [tool_wear_input],\n",
    "    'Target': [target_input],\n",
    "    'Temperature difference [°C]': [temp_diff_input]\n",
    "}\n",
    "\n",
    "# Convert the dictionary to a DataFrame\n",
    "new_input_df = pd.DataFrame(new_data)\n",
    "\n",
    "# Make predictions on the new input data\n",
    "predicted_class = best_decision_tree_model.predict(new_input_df)[0]\n",
    "class_mapping = {\n",
    "    0: 'No Failure',\n",
    "    1: 'Power Failure',\n",
    "    2: 'Tool Wear Failure',\n",
    "    3: 'Heat Dissipation Failure',\n",
    "    4: 'Overstrain Failure',\n",
    "    5: 'Random Failures'\n",
    "}\n",
    "\n",
    "# Get the predicted category label\n",
    "predicted_category = class_mapping.get(predicted_class, 'Unknown Failure')\n",
    "\n",
    "# Print the predicted category\n",
    "print(\"Predicted category:\", predicted_category)\n"
   ]
  },
  {
   "cell_type": "code",
   "execution_count": null,
   "metadata": {},
   "outputs": [],
   "source": []
  }
 ],
 "metadata": {
  "kaggle": {
   "accelerator": "none",
   "dataSources": [
    {
     "datasetId": 1697740,
     "sourceId": 2781015,
     "sourceType": "datasetVersion"
    }
   ],
   "dockerImageVersionId": 30213,
   "isGpuEnabled": false,
   "isInternetEnabled": true,
   "language": "python",
   "sourceType": "notebook"
  },
  "kernelspec": {
   "display_name": "Python 3 (ipykernel)",
   "language": "python",
   "name": "python3"
  },
  "language_info": {
   "codemirror_mode": {
    "name": "ipython",
    "version": 3
   },
   "file_extension": ".py",
   "mimetype": "text/x-python",
   "name": "python",
   "nbconvert_exporter": "python",
   "pygments_lexer": "ipython3",
   "version": "3.7.6"
  }
 },
 "nbformat": 4,
 "nbformat_minor": 4
}
