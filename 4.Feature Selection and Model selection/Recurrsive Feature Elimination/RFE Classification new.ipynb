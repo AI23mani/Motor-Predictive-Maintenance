{
 "cells": [
  {
   "cell_type": "code",
   "execution_count": 1,
   "id": "28fe3396-805a-48b1-b678-5186a690e40d",
   "metadata": {},
   "outputs": [],
   "source": [
    "import pandas as pd\n",
    "from sklearn.model_selection import train_test_split \n",
    "import time\n",
    "import numpy as np\n",
    "from sklearn.preprocessing import StandardScaler\n",
    "from sklearn.feature_selection import SelectKBest\n",
    "from sklearn.feature_selection import chi2\n",
    "from sklearn.feature_selection import RFE\n",
    "from sklearn.linear_model import LogisticRegression\n",
    "import pickle\n",
    "import matplotlib.pyplot as plt\n",
    "from sklearn.preprocessing import LabelEncoder"
   ]
  },
  {
   "cell_type": "code",
   "execution_count": 2,
   "id": "201032f6-7022-4388-91a7-00a60ca018a8",
   "metadata": {},
   "outputs": [],
   "source": [
    "dataset = pd.read_csv(\"predictive_maintenance.csv\", index_col=None)\n",
    "df2 = dataset\n",
    "\n",
    "# Define independent variables (features) and dependent variable (target)\n",
    "indep_X = df2.drop([\"Failure Type\"], axis=1)\n",
    "\n",
    "indep_X = pd.get_dummies(indep_X,drop_first=True)\n",
    "dep_Y = df2['Failure Type']\n",
    "\n",
    "# Encode the dependent variable\n",
    "label_encoder = LabelEncoder()\n",
    "dep_Y_encoded = label_encoder.fit_transform(dep_Y)\n"
   ]
  },
  {
   "cell_type": "code",
   "execution_count": 3,
   "id": "efaf8951-ec8c-45ba-a453-380ede3f6ac2",
   "metadata": {},
   "outputs": [
    {
     "data": {
      "text/plain": [
       "Index(['UDI', 'Product ID', 'Type', 'Air temperature [K]',\n",
       "       'Process temperature [K]', 'Rotational speed [rpm]', 'Torque [Nm]',\n",
       "       'Tool wear [min]', 'Target', 'Failure Type'],\n",
       "      dtype='object')"
      ]
     },
     "execution_count": 3,
     "metadata": {},
     "output_type": "execute_result"
    }
   ],
   "source": [
    "dataset.columns"
   ]
  },
  {
   "cell_type": "markdown",
   "id": "1c133f3b",
   "metadata": {},
   "source": [
    "# Feature Selection"
   ]
  },
  {
   "cell_type": "markdown",
   "id": "1c85f45f",
   "metadata": {},
   "source": [
    "# Recursive Feature Elimination"
   ]
  },
  {
   "cell_type": "code",
   "execution_count": 4,
   "id": "f95d13dd",
   "metadata": {},
   "outputs": [],
   "source": [
    "def split_scalar(indep_X,dep_Y_encoded):\n",
    "        X_train, X_test, y_train, y_test = train_test_split(indep_X, dep_Y_encoded, test_size = 0.25, random_state = 0)\n",
    "\n",
    "        sc = StandardScaler()\n",
    "        X_train = sc.fit_transform(X_train)\n",
    "        X_test = sc.transform(X_test)    \n",
    "        return X_train, X_test, y_train, y_test\n",
    "    "
   ]
  },
  {
   "cell_type": "code",
   "execution_count": 5,
   "id": "b601c397",
   "metadata": {},
   "outputs": [],
   "source": [
    "def r2_prediction(regressor,X_test,y_test):\n",
    "    y_pred = regressor.predict(X_test)\n",
    "    from sklearn.metrics import r2_score\n",
    "    r2=r2_score(y_test,y_pred)\n",
    "    return r2"
   ]
  },
  {
   "cell_type": "code",
   "execution_count": 6,
   "id": "46a22ce9",
   "metadata": {},
   "outputs": [],
   "source": [
    "def Linear(X_train,y_train,X_test):       \n",
    "        from sklearn.linear_model import LinearRegression\n",
    "        regressor = LinearRegression()\n",
    "        regressor.fit(X_train, y_train)\n",
    "        r2=r2_prediction(regressor,X_test,y_test)\n",
    "        return  r2 "
   ]
  },
  {
   "cell_type": "code",
   "execution_count": 7,
   "id": "f773df7b",
   "metadata": {},
   "outputs": [],
   "source": [
    "def Decision(X_train,y_train,X_test):\n",
    "        from sklearn.tree import DecisionTreeRegressor\n",
    "        regressor = DecisionTreeRegressor(random_state = 0)\n",
    "        regressor.fit(X_train, y_train)\n",
    "        r2=r2_prediction(regressor,X_test,y_test)\n",
    "        return  r2 "
   ]
  },
  {
   "cell_type": "code",
   "execution_count": 8,
   "id": "2ae5d5b3",
   "metadata": {},
   "outputs": [],
   "source": [
    "def random(X_train,y_train,X_test):       \n",
    "        from sklearn.ensemble import RandomForestRegressor\n",
    "        regressor = RandomForestRegressor(n_estimators = 10, random_state = 0)\n",
    "        regressor.fit(X_train, y_train)\n",
    "        r2=r2_prediction(regressor,X_test,y_test)\n",
    "        return  r2"
   ]
  },
  {
   "cell_type": "code",
   "execution_count": 9,
   "id": "6277577d",
   "metadata": {},
   "outputs": [],
   "source": [
    "def xgboost(X_train,y_train,X_test):       \n",
    "        from xgboost import XGBRegressor\n",
    "        regressor = XGBRegressor(n_jobs=5,learning_rate=0.1,max_depth=10,random_state=1)\n",
    "        regressor.fit(X_train, y_train)\n",
    "        r2=r2_prediction(regressor,X_test,y_test)\n",
    "        return r2"
   ]
  },
  {
   "cell_type": "code",
   "execution_count": null,
   "id": "5a955535",
   "metadata": {},
   "outputs": [],
   "source": [
    "def rfeFeature(indep_X, dep_Y_encoded, n):\n",
    "    rfelist = []\n",
    "    colnames_list = []  \n",
    "    # List to store column names for each model\n",
    "    r2_values = []  \n",
    "    # List to store R2 values for each model\n",
    "\n",
    "    from sklearn.linear_model import LinearRegression\n",
    "    lin = LinearRegression()\n",
    "\n",
    "    from sklearn.tree import DecisionTreeRegressor\n",
    "    dec = DecisionTreeRegressor(random_state=0)\n",
    "\n",
    "    from sklearn.ensemble import RandomForestRegressor\n",
    "    rf = RandomForestRegressor(n_estimators=10, random_state=0)\n",
    "\n",
    "    from xgboost import XGBRegressor\n",
    "    xgb = XGBRegressor(n_jobs=5, learning_rate=0.1, max_depth=10, random_state=1)\n",
    "\n",
    "    rfemodellist = [lin, dec, rf, xgb]\n",
    "\n",
    "    for model in rfemodellist:\n",
    "        log_rfe = RFE(estimator=model, n_features_to_select=n)\n",
    "        log_fit = log_rfe.fit(indep_X, dep_Y_encoded)\n",
    "        log_rfe_feature = log_fit.transform(indep_X)\n",
    "        rfelist.append(log_rfe_feature)\n",
    "\n",
    "        # Get the column names selected by RFE\n",
    "        selected_columns = [col for col, selected in zip(indep_X.columns, log_rfe.support_) if selected]\n",
    "        colnames_list.append(selected_columns)\n",
    "\n",
    "        # Fit the model and calculate and store the R2 value\n",
    "        X_train, X_test, y_train, y_test = split_scalar(pd.DataFrame(log_rfe_feature), dep_Y_encoded)\n",
    "        model.fit(X_train, y_train)  # Fit the model\n",
    "        r2 = r2_prediction(model, X_test, y_test)\n",
    "        r2_values.append(r2)\n",
    "\n",
    "    return rfelist, colnames_list, r2_values\n",
    "\n",
    "# Call the function with your data\n",
    "rfelist, colnames_list, r2_values = rfeFeature(indep_X,dep_Y_encoded, 6)\n",
    "\n",
    "# Print the selected column names and R2 values for each model\n",
    "for model_name, selected_columns, r2_value in zip([\"Linear\", \"Decision\", \"Random\", \"XGBoost\"], colnames_list, r2_values):\n",
    "    print(f\"Model: {model_name}\")\n",
    "    print(\"Selected Columns:\", selected_columns)\n",
    "    print(f\"R2 Value: {r2_value}\\n\")"
   ]
  },
  {
   "cell_type": "code",
   "execution_count": null,
   "id": "61a1e9dc",
   "metadata": {},
   "outputs": [],
   "source": []
  }
 ],
 "metadata": {
  "kernelspec": {
   "display_name": "Python 3 (ipykernel)",
   "language": "python",
   "name": "python3"
  },
  "language_info": {
   "codemirror_mode": {
    "name": "ipython",
    "version": 3
   },
   "file_extension": ".py",
   "mimetype": "text/x-python",
   "name": "python",
   "nbconvert_exporter": "python",
   "pygments_lexer": "ipython3",
   "version": "3.11.7"
  }
 },
 "nbformat": 4,
 "nbformat_minor": 5
}
