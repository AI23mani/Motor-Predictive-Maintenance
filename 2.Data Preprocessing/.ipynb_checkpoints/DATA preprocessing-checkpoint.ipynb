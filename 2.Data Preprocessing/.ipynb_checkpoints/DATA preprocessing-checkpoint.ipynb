{
 "cells": [
  {
   "cell_type": "markdown",
   "metadata": {},
   "source": [
    "<div style=\"color:red;background-color:lime;padding:3%;border-radius:150px 150px;font-size:2em;text-align:center\">Data analysis with-LR-DT-RF-and-SVM-99.6% AUC</div>"
   ]
  },
  {
   "cell_type": "markdown",
   "metadata": {},
   "source": [
    "![](https://j.gifs.com/76kDrQ.gif)"
   ]
  },
  {
   "cell_type": "code",
   "execution_count": 1,
   "metadata": {},
   "outputs": [],
   "source": [
    "import numpy as np \n",
    "import pandas as pd\n",
    "import seaborn as sns\n",
    "import matplotlib.pyplot as plt\n",
    "\n",
    "import warnings\n",
    "warnings.filterwarnings(\"ignore\")"
   ]
  },
  {
   "cell_type": "code",
   "execution_count": 2,
   "metadata": {},
   "outputs": [],
   "source": [
    "#Default theme\n",
    "sns.set_theme(palette='tab10',\n",
    "              font='Lucida Calligraphy',\n",
    "              font_scale=1.5,\n",
    "              rc=None)\n",
    "\n",
    "import matplotlib\n",
    "matplotlib.rcParams.update({'font.size': 15})\n",
    "plt.style.use('dark_background')"
   ]
  },
  {
   "cell_type": "code",
   "execution_count": 3,
   "metadata": {},
   "outputs": [],
   "source": [
    "pd.set_option(\"display.max_columns\",None)\n",
    "pd.set_option(\"display.max_rows\",None)"
   ]
  },
  {
   "cell_type": "code",
   "execution_count": 5,
   "metadata": {},
   "outputs": [
    {
     "data": {
      "text/html": [
       "<style type=\"text/css\">\n",
       "#T_e38e2_row0_col0, #T_e38e2_row0_col1, #T_e38e2_row0_col2, #T_e38e2_row0_col3, #T_e38e2_row0_col4, #T_e38e2_row0_col5, #T_e38e2_row0_col6, #T_e38e2_row0_col7, #T_e38e2_row1_col0, #T_e38e2_row1_col1, #T_e38e2_row1_col2, #T_e38e2_row1_col3, #T_e38e2_row1_col4, #T_e38e2_row1_col5, #T_e38e2_row1_col6, #T_e38e2_row1_col7, #T_e38e2_row2_col0, #T_e38e2_row2_col1, #T_e38e2_row2_col2, #T_e38e2_row2_col3, #T_e38e2_row2_col4, #T_e38e2_row2_col5, #T_e38e2_row2_col6, #T_e38e2_row2_col7, #T_e38e2_row3_col0, #T_e38e2_row3_col1, #T_e38e2_row3_col2, #T_e38e2_row3_col3, #T_e38e2_row3_col4, #T_e38e2_row3_col5, #T_e38e2_row3_col6, #T_e38e2_row3_col7, #T_e38e2_row4_col0, #T_e38e2_row4_col1, #T_e38e2_row4_col2, #T_e38e2_row4_col3, #T_e38e2_row4_col4, #T_e38e2_row4_col5, #T_e38e2_row4_col6, #T_e38e2_row4_col7, #T_e38e2_row5_col0, #T_e38e2_row5_col1, #T_e38e2_row5_col2, #T_e38e2_row5_col3, #T_e38e2_row5_col4, #T_e38e2_row5_col5, #T_e38e2_row5_col6, #T_e38e2_row5_col7 {\n",
       "  background-color: Brown;\n",
       "  color: white;\n",
       "  border-color: White;\n",
       "}\n",
       "</style>\n",
       "<table id=\"T_e38e2_\">\n",
       "  <thead>\n",
       "    <tr>\n",
       "      <th class=\"blank level0\" >&nbsp;</th>\n",
       "      <th class=\"col_heading level0 col0\" >Type</th>\n",
       "      <th class=\"col_heading level0 col1\" >Air temperature [K]</th>\n",
       "      <th class=\"col_heading level0 col2\" >Process temperature [K]</th>\n",
       "      <th class=\"col_heading level0 col3\" >Rotational speed [rpm]</th>\n",
       "      <th class=\"col_heading level0 col4\" >Torque [Nm]</th>\n",
       "      <th class=\"col_heading level0 col5\" >Tool wear [min]</th>\n",
       "      <th class=\"col_heading level0 col6\" >Target</th>\n",
       "      <th class=\"col_heading level0 col7\" >Failure Type</th>\n",
       "    </tr>\n",
       "  </thead>\n",
       "  <tbody>\n",
       "    <tr>\n",
       "      <th id=\"T_e38e2_level0_row0\" class=\"row_heading level0 row0\" >6939</th>\n",
       "      <td id=\"T_e38e2_row0_col0\" class=\"data row0 col0\" >M</td>\n",
       "      <td id=\"T_e38e2_row0_col1\" class=\"data row0 col1\" >300.700000</td>\n",
       "      <td id=\"T_e38e2_row0_col2\" class=\"data row0 col2\" >311.300000</td>\n",
       "      <td id=\"T_e38e2_row0_col3\" class=\"data row0 col3\" >1348</td>\n",
       "      <td id=\"T_e38e2_row0_col4\" class=\"data row0 col4\" >53.000000</td>\n",
       "      <td id=\"T_e38e2_row0_col5\" class=\"data row0 col5\" >35</td>\n",
       "      <td id=\"T_e38e2_row0_col6\" class=\"data row0 col6\" >0</td>\n",
       "      <td id=\"T_e38e2_row0_col7\" class=\"data row0 col7\" >No Failure</td>\n",
       "    </tr>\n",
       "    <tr>\n",
       "      <th id=\"T_e38e2_level0_row1\" class=\"row_heading level0 row1\" >2640</th>\n",
       "      <td id=\"T_e38e2_row1_col0\" class=\"data row1 col0\" >M</td>\n",
       "      <td id=\"T_e38e2_row1_col1\" class=\"data row1 col1\" >299.900000</td>\n",
       "      <td id=\"T_e38e2_row1_col2\" class=\"data row1 col2\" >309.500000</td>\n",
       "      <td id=\"T_e38e2_row1_col3\" class=\"data row1 col3\" >1372</td>\n",
       "      <td id=\"T_e38e2_row1_col4\" class=\"data row1 col4\" >56.200000</td>\n",
       "      <td id=\"T_e38e2_row1_col5\" class=\"data row1 col5\" >133</td>\n",
       "      <td id=\"T_e38e2_row1_col6\" class=\"data row1 col6\" >0</td>\n",
       "      <td id=\"T_e38e2_row1_col7\" class=\"data row1 col7\" >No Failure</td>\n",
       "    </tr>\n",
       "    <tr>\n",
       "      <th id=\"T_e38e2_level0_row2\" class=\"row_heading level0 row2\" >1474</th>\n",
       "      <td id=\"T_e38e2_row2_col0\" class=\"data row2 col0\" >M</td>\n",
       "      <td id=\"T_e38e2_row2_col1\" class=\"data row2 col1\" >298.500000</td>\n",
       "      <td id=\"T_e38e2_row2_col2\" class=\"data row2 col2\" >309.500000</td>\n",
       "      <td id=\"T_e38e2_row2_col3\" class=\"data row2 col3\" >1366</td>\n",
       "      <td id=\"T_e38e2_row2_col4\" class=\"data row2 col4\" >61.900000</td>\n",
       "      <td id=\"T_e38e2_row2_col5\" class=\"data row2 col5\" >130</td>\n",
       "      <td id=\"T_e38e2_row2_col6\" class=\"data row2 col6\" >0</td>\n",
       "      <td id=\"T_e38e2_row2_col7\" class=\"data row2 col7\" >No Failure</td>\n",
       "    </tr>\n",
       "    <tr>\n",
       "      <th id=\"T_e38e2_level0_row3\" class=\"row_heading level0 row3\" >8196</th>\n",
       "      <td id=\"T_e38e2_row3_col0\" class=\"data row3 col0\" >L</td>\n",
       "      <td id=\"T_e38e2_row3_col1\" class=\"data row3 col1\" >299.400000</td>\n",
       "      <td id=\"T_e38e2_row3_col2\" class=\"data row3 col2\" >310.800000</td>\n",
       "      <td id=\"T_e38e2_row3_col3\" class=\"data row3 col3\" >1622</td>\n",
       "      <td id=\"T_e38e2_row3_col4\" class=\"data row3 col4\" >33.600000</td>\n",
       "      <td id=\"T_e38e2_row3_col5\" class=\"data row3 col5\" >217</td>\n",
       "      <td id=\"T_e38e2_row3_col6\" class=\"data row3 col6\" >0</td>\n",
       "      <td id=\"T_e38e2_row3_col7\" class=\"data row3 col7\" >No Failure</td>\n",
       "    </tr>\n",
       "    <tr>\n",
       "      <th id=\"T_e38e2_level0_row4\" class=\"row_heading level0 row4\" >8212</th>\n",
       "      <td id=\"T_e38e2_row4_col0\" class=\"data row4 col0\" >H</td>\n",
       "      <td id=\"T_e38e2_row4_col1\" class=\"data row4 col1\" >299.200000</td>\n",
       "      <td id=\"T_e38e2_row4_col2\" class=\"data row4 col2\" >310.500000</td>\n",
       "      <td id=\"T_e38e2_row4_col3\" class=\"data row4 col3\" >1329</td>\n",
       "      <td id=\"T_e38e2_row4_col4\" class=\"data row4 col4\" >48.900000</td>\n",
       "      <td id=\"T_e38e2_row4_col5\" class=\"data row4 col5\" >30</td>\n",
       "      <td id=\"T_e38e2_row4_col6\" class=\"data row4 col6\" >0</td>\n",
       "      <td id=\"T_e38e2_row4_col7\" class=\"data row4 col7\" >No Failure</td>\n",
       "    </tr>\n",
       "    <tr>\n",
       "      <th id=\"T_e38e2_level0_row5\" class=\"row_heading level0 row5\" >4339</th>\n",
       "      <td id=\"T_e38e2_row5_col0\" class=\"data row5 col0\" >L</td>\n",
       "      <td id=\"T_e38e2_row5_col1\" class=\"data row5 col1\" >301.700000</td>\n",
       "      <td id=\"T_e38e2_row5_col2\" class=\"data row5 col2\" >309.900000</td>\n",
       "      <td id=\"T_e38e2_row5_col3\" class=\"data row5 col3\" >1524</td>\n",
       "      <td id=\"T_e38e2_row5_col4\" class=\"data row5 col4\" >46.600000</td>\n",
       "      <td id=\"T_e38e2_row5_col5\" class=\"data row5 col5\" >104</td>\n",
       "      <td id=\"T_e38e2_row5_col6\" class=\"data row5 col6\" >0</td>\n",
       "      <td id=\"T_e38e2_row5_col7\" class=\"data row5 col7\" >No Failure</td>\n",
       "    </tr>\n",
       "  </tbody>\n",
       "</table>\n"
      ],
      "text/plain": [
       "<pandas.io.formats.style.Styler at 0x180135b0d48>"
      ]
     },
     "execution_count": 5,
     "metadata": {},
     "output_type": "execute_result"
    }
   ],
   "source": [
    "df=pd.read_csv(\"predictive_maintenance.csv\")\n",
    "df = df.drop([\"UDI\",\"Product ID\"],axis=1)\n",
    "df.sample(6).style.set_properties(\n",
    "    **{\n",
    "        'background-color': 'Brown',\n",
    "        'color': 'white',\n",
    "        'border-color': 'White'\n",
    "    })"
   ]
  },
  {
   "cell_type": "code",
   "execution_count": 6,
   "metadata": {},
   "outputs": [],
   "source": [
    "## Converting temperature in centigrate from Kelvin [1 K = -272.15 °C  ] \n",
    "\n",
    "df[\"Air temperature [K]\"] = df[\"Air temperature [K]\"] - 272.15\n",
    "df[\"Process temperature [K]\"] = df[\"Process temperature [K]\"] - 272.15\n",
    "\n",
    "# Renaming temperature in Centigrate(°C) from Kelvin (K)\n",
    "df.rename(columns={\"Air temperature [K]\" : \"Air temperature [°C]\",\"Process temperature [K]\" : \"Process temperature [°C]\"},inplace=True)"
   ]
  },
  {
   "cell_type": "code",
   "execution_count": 7,
   "metadata": {},
   "outputs": [
    {
     "data": {
      "text/html": [
       "<div>\n",
       "<style scoped>\n",
       "    .dataframe tbody tr th:only-of-type {\n",
       "        vertical-align: middle;\n",
       "    }\n",
       "\n",
       "    .dataframe tbody tr th {\n",
       "        vertical-align: top;\n",
       "    }\n",
       "\n",
       "    .dataframe thead th {\n",
       "        text-align: right;\n",
       "    }\n",
       "</style>\n",
       "<table border=\"1\" class=\"dataframe\">\n",
       "  <thead>\n",
       "    <tr style=\"text-align: right;\">\n",
       "      <th></th>\n",
       "      <th>Type</th>\n",
       "      <th>Air temperature [°C]</th>\n",
       "      <th>Process temperature [°C]</th>\n",
       "      <th>Rotational speed [rpm]</th>\n",
       "      <th>Torque [Nm]</th>\n",
       "      <th>Tool wear [min]</th>\n",
       "      <th>Target</th>\n",
       "      <th>Failure Type</th>\n",
       "      <th>Temperature difference [°C]</th>\n",
       "    </tr>\n",
       "  </thead>\n",
       "  <tbody>\n",
       "    <tr>\n",
       "      <th>3780</th>\n",
       "      <td>L</td>\n",
       "      <td>30.25</td>\n",
       "      <td>38.95</td>\n",
       "      <td>1446</td>\n",
       "      <td>42.9</td>\n",
       "      <td>5</td>\n",
       "      <td>0</td>\n",
       "      <td>No Failure</td>\n",
       "      <td>8.7</td>\n",
       "    </tr>\n",
       "    <tr>\n",
       "      <th>3546</th>\n",
       "      <td>M</td>\n",
       "      <td>29.75</td>\n",
       "      <td>38.75</td>\n",
       "      <td>1317</td>\n",
       "      <td>51.9</td>\n",
       "      <td>40</td>\n",
       "      <td>0</td>\n",
       "      <td>No Failure</td>\n",
       "      <td>9.0</td>\n",
       "    </tr>\n",
       "    <tr>\n",
       "      <th>4563</th>\n",
       "      <td>L</td>\n",
       "      <td>30.55</td>\n",
       "      <td>38.55</td>\n",
       "      <td>1977</td>\n",
       "      <td>20.0</td>\n",
       "      <td>21</td>\n",
       "      <td>0</td>\n",
       "      <td>No Failure</td>\n",
       "      <td>8.0</td>\n",
       "    </tr>\n",
       "    <tr>\n",
       "      <th>7268</th>\n",
       "      <td>L</td>\n",
       "      <td>28.35</td>\n",
       "      <td>38.45</td>\n",
       "      <td>1543</td>\n",
       "      <td>36.2</td>\n",
       "      <td>30</td>\n",
       "      <td>0</td>\n",
       "      <td>No Failure</td>\n",
       "      <td>10.1</td>\n",
       "    </tr>\n",
       "    <tr>\n",
       "      <th>1722</th>\n",
       "      <td>M</td>\n",
       "      <td>26.05</td>\n",
       "      <td>35.55</td>\n",
       "      <td>1952</td>\n",
       "      <td>21.6</td>\n",
       "      <td>93</td>\n",
       "      <td>0</td>\n",
       "      <td>No Failure</td>\n",
       "      <td>9.5</td>\n",
       "    </tr>\n",
       "    <tr>\n",
       "      <th>6133</th>\n",
       "      <td>L</td>\n",
       "      <td>28.95</td>\n",
       "      <td>38.95</td>\n",
       "      <td>1470</td>\n",
       "      <td>40.9</td>\n",
       "      <td>125</td>\n",
       "      <td>0</td>\n",
       "      <td>No Failure</td>\n",
       "      <td>10.0</td>\n",
       "    </tr>\n",
       "  </tbody>\n",
       "</table>\n",
       "</div>"
      ],
      "text/plain": [
       "     Type  Air temperature [°C]  Process temperature [°C]  \\\n",
       "3780    L                 30.25                     38.95   \n",
       "3546    M                 29.75                     38.75   \n",
       "4563    L                 30.55                     38.55   \n",
       "7268    L                 28.35                     38.45   \n",
       "1722    M                 26.05                     35.55   \n",
       "6133    L                 28.95                     38.95   \n",
       "\n",
       "      Rotational speed [rpm]  Torque [Nm]  Tool wear [min]  Target  \\\n",
       "3780                    1446         42.9                5       0   \n",
       "3546                    1317         51.9               40       0   \n",
       "4563                    1977         20.0               21       0   \n",
       "7268                    1543         36.2               30       0   \n",
       "1722                    1952         21.6               93       0   \n",
       "6133                    1470         40.9              125       0   \n",
       "\n",
       "     Failure Type  Temperature difference [°C]  \n",
       "3780   No Failure                          8.7  \n",
       "3546   No Failure                          9.0  \n",
       "4563   No Failure                          8.0  \n",
       "7268   No Failure                         10.1  \n",
       "1722   No Failure                          9.5  \n",
       "6133   No Failure                         10.0  "
      ]
     },
     "execution_count": 7,
     "metadata": {},
     "output_type": "execute_result"
    }
   ],
   "source": [
    "df[\"Temperature difference [°C]\"] = df[\"Process temperature [°C]\"] - df[\"Air temperature [°C]\"]\n",
    "df.sample(6)"
   ]
  },
  {
   "cell_type": "code",
   "execution_count": 8,
   "metadata": {},
   "outputs": [
    {
     "data": {
      "text/plain": [
       "(10000, 9)"
      ]
     },
     "metadata": {},
     "output_type": "display_data"
    },
    {
     "data": {
      "text/plain": [
       "90000"
      ]
     },
     "metadata": {},
     "output_type": "display_data"
    }
   ],
   "source": [
    "display(df.shape)\n",
    "display(df.size)"
   ]
  },
  {
   "cell_type": "code",
   "execution_count": 9,
   "metadata": {},
   "outputs": [
    {
     "name": "stdout",
     "output_type": "stream",
     "text": [
      "<class 'pandas.core.frame.DataFrame'>\n",
      "RangeIndex: 10000 entries, 0 to 9999\n",
      "Data columns (total 9 columns):\n",
      " #   Column                       Non-Null Count  Dtype  \n",
      "---  ------                       --------------  -----  \n",
      " 0   Type                         10000 non-null  object \n",
      " 1   Air temperature [°C]         10000 non-null  float64\n",
      " 2   Process temperature [°C]     10000 non-null  float64\n",
      " 3   Rotational speed [rpm]       10000 non-null  int64  \n",
      " 4   Torque [Nm]                  10000 non-null  float64\n",
      " 5   Tool wear [min]              10000 non-null  int64  \n",
      " 6   Target                       10000 non-null  int64  \n",
      " 7   Failure Type                 10000 non-null  object \n",
      " 8   Temperature difference [°C]  10000 non-null  float64\n",
      "dtypes: float64(4), int64(3), object(2)\n",
      "memory usage: 703.2+ KB\n"
     ]
    }
   ],
   "source": [
    "df.info() "
   ]
  },
  {
   "cell_type": "code",
   "execution_count": 65,
   "metadata": {},
   "outputs": [
    {
     "data": {
      "text/plain": [
       "Index(['Type', 'Air temperature [°C]', 'Process temperature [°C]',\n",
       "       'Rotational speed [rpm]', 'Torque [Nm]', 'Tool wear [min]', 'Target',\n",
       "       'Failure Type', 'Temperature difference [°C]'],\n",
       "      dtype='object')"
      ]
     },
     "execution_count": 65,
     "metadata": {},
     "output_type": "execute_result"
    }
   ],
   "source": [
    "df.columns"
   ]
  }
 ],
 "metadata": {
  "kaggle": {
   "accelerator": "none",
   "dataSources": [
    {
     "datasetId": 1697740,
     "sourceId": 2781015,
     "sourceType": "datasetVersion"
    }
   ],
   "dockerImageVersionId": 30213,
   "isGpuEnabled": false,
   "isInternetEnabled": true,
   "language": "python",
   "sourceType": "notebook"
  },
  "kernelspec": {
   "display_name": "Python 3 (ipykernel)",
   "language": "python",
   "name": "python3"
  },
  "language_info": {
   "codemirror_mode": {
    "name": "ipython",
    "version": 3
   },
   "file_extension": ".py",
   "mimetype": "text/x-python",
   "name": "python",
   "nbconvert_exporter": "python",
   "pygments_lexer": "ipython3",
   "version": "3.7.6"
  }
 },
 "nbformat": 4,
 "nbformat_minor": 4
}
